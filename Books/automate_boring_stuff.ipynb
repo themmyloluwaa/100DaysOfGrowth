{
 "cells": [
  {
   "cell_type": "markdown",
   "source": [
    "## CHAPTER 8"
   ],
   "metadata": {}
  },
  {
   "cell_type": "code",
   "execution_count": 11,
   "source": [
    "import os \n",
    "curr_dir = os.getcwd()\n",
    "\n",
    "# os.path.abspath('.')\n",
    "# os.path.isabs('.')\n",
    "# os.path.isabs((os.path.abspath('.')))\n",
    "# os.path.relpath('./Books','AWS')\n",
    "# os.path.dirname(curr_dir)\n",
    "curr_dir.split(os.path.sep)"
   ],
   "outputs": [
    {
     "output_type": "execute_result",
     "data": {
      "text/plain": [
       "['', 'Users', 'codekagei', 'Documents', '100DaysofGrowth', 'Books']"
      ]
     },
     "metadata": {},
     "execution_count": 11
    }
   ],
   "metadata": {}
  },
  {
   "cell_type": "code",
   "execution_count": 12,
   "source": [
    "text1 = open(os.path.join(curr_dir, 'hello.txt'), 'w')\n",
    "# content = text1.read()"
   ],
   "outputs": [],
   "metadata": {}
  },
  {
   "cell_type": "code",
   "execution_count": 13,
   "source": [
    "text2 = open(os.path.join(curr_dir,  'hello2.txt'),'a')\n",
    "# text2.readlines()\n"
   ],
   "outputs": [],
   "metadata": {}
  },
  {
   "cell_type": "code",
   "execution_count": 14,
   "source": [
    "text1.write('Hello world!\\n')\n",
    "text1.close()\n",
    "text2.write('\\nFirst write to file in python \\n')\n",
    "text2.close()"
   ],
   "outputs": [],
   "metadata": {}
  },
  {
   "cell_type": "code",
   "execution_count": 15,
   "source": [
    "text1 = open(os.path.join(curr_dir, 'hello.txt'))\n",
    "text2 = open(os.path.join(curr_dir, 'hello2.txt'))\n",
    "\n",
    "content1 = text1.read()\n",
    "content2 = text2.readlines()\n"
   ],
   "outputs": [],
   "metadata": {}
  },
  {
   "cell_type": "code",
   "execution_count": 16,
   "source": [
    "content1"
   ],
   "outputs": [
    {
     "output_type": "execute_result",
     "data": {
      "text/plain": [
       "'Hello world!\\n'"
      ]
     },
     "metadata": {},
     "execution_count": 16
    }
   ],
   "metadata": {}
  },
  {
   "cell_type": "code",
   "execution_count": 17,
   "source": [
    "content2"
   ],
   "outputs": [
    {
     "output_type": "execute_result",
     "data": {
      "text/plain": [
       "[\"When, in disgrace with fortune and men's eyes,\\n\",\n",
       " 'I all alone beweep my outcast state,\\n',\n",
       " 'And trouble deaf heaven with my bootless cries,\\n',\n",
       " 'And look upon myself and curse my fate,\\n',\n",
       " 'First write to file in python \\n']"
      ]
     },
     "metadata": {},
     "execution_count": 17
    }
   ],
   "metadata": {}
  },
  {
   "cell_type": "code",
   "execution_count": 18,
   "source": [
    "text3 = open('hello3.txt','w')"
   ],
   "outputs": [],
   "metadata": {}
  },
  {
   "cell_type": "code",
   "execution_count": 19,
   "source": [
    "text3.write('Amazing \\n')\n",
    "text3.close()"
   ],
   "outputs": [],
   "metadata": {}
  },
  {
   "cell_type": "code",
   "execution_count": null,
   "source": [
    "import pprint\n"
   ],
   "outputs": [],
   "metadata": {}
  }
 ],
 "metadata": {
  "orig_nbformat": 4,
  "language_info": {
   "name": "python",
   "version": "3.9.5",
   "mimetype": "text/x-python",
   "codemirror_mode": {
    "name": "ipython",
    "version": 3
   },
   "pygments_lexer": "ipython3",
   "nbconvert_exporter": "python",
   "file_extension": ".py"
  },
  "kernelspec": {
   "name": "python3",
   "display_name": "Python 3.9.5 64-bit ('python@3.9')"
  },
  "interpreter": {
   "hash": "ac2eaa0ea0ebeafcc7822e65e46aa9d4f966f30b695406963e145ea4a91cd4fc"
  }
 },
 "nbformat": 4,
 "nbformat_minor": 2
}