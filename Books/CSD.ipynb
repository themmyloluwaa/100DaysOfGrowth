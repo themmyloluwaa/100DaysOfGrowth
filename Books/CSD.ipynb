{
 "cells": [
  {
   "cell_type": "markdown",
   "metadata": {},
   "source": [
    "## This note book contains all my learnings from the Computer Science Distilled Book."
   ]
  },
  {
   "cell_type": "markdown",
   "metadata": {},
   "source": [
    "### Chapter Two\n",
    "### Time and Space Complexity "
   ]
  },
  {
   "cell_type": "markdown",
   "metadata": {},
   "source": [
    "#### Selection Sort"
   ]
  },
  {
   "cell_type": "markdown",
   "metadata": {},
   "source": [
    "###### My notes\n",
    "\n",
    "The selection sort algorithm works by using two loops to find the index of the smallest item in the array and then swapping that value. The time complexity is O(N^2) while the space complexity is O(1).\n",
    "\n",
    "The inner loop searches through the array for the next smallest item\n",
    "\n",
    "The algorithm is as follows\n",
    "\n",
    "- initialise fist loop with iterator (i) set to 0\n",
    "- set minimum index as i\n",
    "- initialise second loop with iterator (j) set to i + 1\n",
    "- if item at index j is smaller than item at minimum index update minimum index to be j\n",
    "- swap item at i with item at updated minimum index"
   ]
  },
  {
   "cell_type": "code",
   "execution_count": 2,
   "metadata": {},
   "outputs": [
    {
     "data": {
      "text/plain": [
       "[1, 1, 2, 2, 3, 3, 6]"
      ]
     },
     "execution_count": 2,
     "metadata": {},
     "output_type": "execute_result"
    }
   ],
   "source": [
    "def selection_sort(arr):\n",
    "    for i in range(len(arr)):\n",
    "        smallest = i\n",
    "        for j in range(i+1, len(arr)):\n",
    "            if arr[j] < arr[smallest]:\n",
    "                smallest = j\n",
    "        temp = arr[smallest]\n",
    "        arr[smallest] = arr[i]\n",
    "        arr[i] = temp\n",
    "    return arr\n",
    "\n",
    "result = selection_sort([2,1,3,1,3,6,2])\n",
    "\n",
    "result\n",
    "\n",
    "# time complexity - O(N^2)\n",
    "# space complexity - O(1)\n"
   ]
  },
  {
   "cell_type": "markdown",
   "metadata": {},
   "source": [
    "##### Exponentials\n",
    "\n",
    "These are algorithms with time complexity of O(2^n) and they brutally dominate the quadratic algorithms (O(N^2)). These algorithms are considered not runnable because after a few times, they require huge amount of computing power.\n",
    "\n",
    "##### Factorials\n",
    "These are even worse than exponential algorithms. They are O(N!). \n",
    "\n",
    "These two algorithms while they may be really horrible are needed to solve complex problems such as the **NP Complete** problem.\n",
    "\n"
   ]
  },
  {
   "cell_type": "markdown",
   "metadata": {},
   "source": [
    "#### Chapter 3 Strategies"
   ]
  },
  {
   "cell_type": "markdown",
   "metadata": {},
   "source": [
    "#### Iteration"
   ]
  },
  {
   "cell_type": "code",
   "execution_count": 37,
   "metadata": {},
   "outputs": [
    {
     "name": "stdout",
     "output_type": "stream",
     "text": [
      "[1, 2, 2, 3, 3, 4]\n",
      "[4, 3, 3, 2, 2, 1]\n"
     ]
    }
   ],
   "source": [
    "# merging two sorted list\n",
    "\n",
    "# 1- ascendingly\n",
    "def merger_asc(list_one, list_two):\n",
    "    result = []\n",
    "    \n",
    "    while not (len(list_one) == 0 and len(list_two) == 0):\n",
    "        if len(list_one) > 0 and len(list_two) > 0:\n",
    "            if list_one[0] < list_two[0]:\n",
    "                item = list_one.pop(0)\n",
    "            else:\n",
    "                item = list_two.pop(0)\n",
    "        elif len(list_one) > 0:\n",
    "            item = list_one.pop(0)\n",
    "        else:\n",
    "            item = list_two.pop(0)\n",
    "        result.append(item)\n",
    "    return result\n",
    "print(merger_asc([1,2,3],[2,3,4]))\n",
    "\n",
    "\n",
    "# 1- descendingly\n",
    "def merger_dsc(list_one, list_two):\n",
    "    result = []\n",
    "\n",
    "    while not (len(list_one) == 0 and len(list_two) == 0):\n",
    "        len_list_one = len(list_one) - 1\n",
    "        len_list_two = len(list_two) - 1\n",
    "        if len(list_one) > 0 and len(list_two) > 0:\n",
    "            if list_one[len_list_one] > list_two[len_list_two]:\n",
    "                item = list_one.pop(len_list_one)\n",
    "            else:\n",
    "                item = list_two.pop(len_list_two)\n",
    "        elif len(list_one) > 0:\n",
    "            item = list_one.pop(len_list_one)\n",
    "        else:\n",
    "            item = list_two.pop(len_list_two)\n",
    "        result.append(item)\n",
    "    return result\n",
    "print(merger_dsc([1,2,3],[2,3,4]))"
   ]
  },
  {
   "cell_type": "code",
   "execution_count": 43,
   "metadata": {},
   "outputs": [],
   "source": [
    "# power set\n",
    "import copy\n",
    "\n",
    "def power_set(flowers):\n",
    "    fragrances = []\n",
    "    \n",
    "    fragrances.append([])\n",
    "    \n",
    "    for flower in flowers:\n",
    "        new_frangrances = copy.deepcopy(fragrances)\n",
    "        \n",
    "        for fragrance in new_frangrances:\n",
    "            fragrance.append(flower)\n",
    "        fragrances = fragrances + new_frangrances\n",
    "    return fragrances"
   ]
  },
  {
   "cell_type": "code",
   "execution_count": 48,
   "metadata": {},
   "outputs": [
    {
     "data": {
      "text/plain": [
       "[[],\n",
       " [1],\n",
       " [2],\n",
       " [1, 2],\n",
       " [3],\n",
       " [1, 3],\n",
       " [2, 3],\n",
       " [1, 2, 3],\n",
       " [4],\n",
       " [1, 4],\n",
       " [2, 4],\n",
       " [1, 2, 4],\n",
       " [3, 4],\n",
       " [1, 3, 4],\n",
       " [2, 3, 4],\n",
       " [1, 2, 3, 4]]"
      ]
     },
     "execution_count": 48,
     "metadata": {},
     "output_type": "execute_result"
    }
   ],
   "source": [
    "power_set([1,2,3,4])"
   ]
  },
  {
   "cell_type": "markdown",
   "metadata": {},
   "source": [
    "#### Recursion"
   ]
  },
  {
   "cell_type": "code",
   "execution_count": 49,
   "metadata": {},
   "outputs": [],
   "source": [
    "# fibonnaci\n",
    "\n",
    "def fib(n):\n",
    "    if n <= 2:\n",
    "        return 1\n",
    "    return fib(n - 1) + fib(n - 2)"
   ]
  },
  {
   "cell_type": "code",
   "execution_count": 50,
   "metadata": {},
   "outputs": [
    {
     "data": {
      "text/plain": [
       "1"
      ]
     },
     "execution_count": 50,
     "metadata": {},
     "output_type": "execute_result"
    }
   ],
   "source": [
    "fib(1)"
   ]
  },
  {
   "cell_type": "code",
   "execution_count": 57,
   "metadata": {},
   "outputs": [],
   "source": [
    "# palindrome\n",
    "\n",
    "def palindrome(word):\n",
    "    if len(word) <= 1:\n",
    "        return True\n",
    "    if word[0] != word[len(word) - 1]:\n",
    "        return False\n",
    "    w = word[1:-1]\n",
    "    return palindrome(w)"
   ]
  },
  {
   "cell_type": "code",
   "execution_count": 60,
   "metadata": {},
   "outputs": [
    {
     "data": {
      "text/plain": [
       "False"
      ]
     },
     "execution_count": 60,
     "metadata": {},
     "output_type": "execute_result"
    }
   ],
   "source": [
    "palindrome(\"re\")"
   ]
  },
  {
   "cell_type": "code",
   "execution_count": 70,
   "metadata": {},
   "outputs": [],
   "source": [
    "n = 8\n",
    "board = [[-1 for i in range(n)]for i in range(n)]"
   ]
  },
  {
   "cell_type": "code",
   "execution_count": 71,
   "metadata": {},
   "outputs": [
    {
     "data": {
      "text/plain": [
       "[[-1, -1, -1, -1, -1, -1, -1, -1],\n",
       " [-1, -1, -1, -1, -1, -1, -1, -1],\n",
       " [-1, -1, -1, -1, -1, -1, -1, -1],\n",
       " [-1, -1, -1, -1, -1, -1, -1, -1],\n",
       " [-1, -1, -1, -1, -1, -1, -1, -1],\n",
       " [-1, -1, -1, -1, -1, -1, -1, -1],\n",
       " [-1, -1, -1, -1, -1, -1, -1, -1],\n",
       " [-1, -1, -1, -1, -1, -1, -1, -1]]"
      ]
     },
     "execution_count": 71,
     "metadata": {},
     "output_type": "execute_result"
    }
   ],
   "source": [
    "board"
   ]
  },
  {
   "cell_type": "markdown",
   "metadata": {},
   "source": [
    "#### Chapter 4\n",
    "##### Data Types"
   ]
  },
  {
   "cell_type": "markdown",
   "metadata": {},
   "source": [
    "##### Stack\n",
    "- Operates the Last in, First out principle. It's good for situations where we need to return only the last item added e.g in backtracing.\n",
    "- Operations are (i)- add item to stack, (ii)- get item from stack without removing (iii)- remove top item from stack\n",
    "\n",
    "##### Queue\n",
    "- Operates the first in, first out principle. It's good for situations where we need to return the first item added in e.g in a delivery algorithm\n",
    "- operations are (i)- enqueue - add item to end (ii)- item get last item added (iii)- remove first item added\n",
    "\n",
    "##### PriorityQueue\n",
    "- Similar to the queue except that items added always have a priority associated with them which determines the first item to be added to the queue.\n",
    "- operations are similar to the queue except that enqueue accepts an additional priority \n",
    "\n",
    "##### List\n",
    "- they are arrays that enable flexible addition of data. Their operations are add, remove, insert, reverse, get item at i \n",
    "\n",
    "##### Maps\n",
    "- they are dictionaries. They store data in key value pairs. Their operations are set, get etc\n",
    "\n",
    "#### Set\n",
    "- they ensure uniqueness in the items stored. their operations are add, remove. The items stored are unordered.\n",
    "\n"
   ]
  },
  {
   "cell_type": "markdown",
   "metadata": {},
   "source": [
    "### Algorithms\n",
    "\n"
   ]
  },
  {
   "cell_type": "markdown",
   "metadata": {},
   "source": [
    "#### Graphs\n",
    "\n",
    "There are two types of graphs\n",
    "- Directed graphs: these are graphs that their vertices are not adjacent to each other. if a and b are vertices, b can be gotten through a but a can't be gotten through b.\n",
    "\n",
    "- Undirected graphs: these are graphs whose vertices are adjacent to each other. the edge connecting a and b can be used to get to either of them. This edge is said to be incident on a and b. \n",
    "\n",
    "The number of edges incident on vertex is the degree of the vertex.\n",
    "\n",
    "- The path between two vertexes with the fewest edges is called the shortest distance.\n",
    "\n",
    "- When a path  goes from a vertex to another vertex and back to itself is called a cycle. \n",
    "\n",
    "- When the edges have weights associated with them, we call it a weighted graph\n",
    "\n",
    "- When a directed graph doesn't have any cycles, we call it a directed acyclic graph\n",
    "\n",
    "- A directed edge can leave one vertex and enter another\n",
    "\n",
    "- The number of edges leaving a directed graph is called out degree and the number of edges entering a directed graph is called in degree"
   ]
  },
  {
   "cell_type": "markdown",
   "metadata": {},
   "source": [
    "#### Representing Graphs\n",
    "\n",
    "Graphs can be represented based on 3 conditions.\n",
    "- Memory\n",
    "- How long it takes to determine whether a given edge is in the graph (time)\n",
    "- How long it takes to find the neighbours of a given vertex\n",
    "\n",
    "\n",
    "##### Edge List\n",
    "Total space required to store a graph as an array (list of edges) is O(E). If the edges of the vertices have a weight, include a 3rd item in the array.\n",
    "\n",
    "e.g\n",
    "```javascript\n",
    "const edgeList = [[0,1],[0,2],[1,3]]\n",
    "const edgeListWithWeight = [[0,1,3],[0,2,4],[1,3,6]]\n",
    "```\n",
    "\n",
    "##### Adjacency matrices\n",
    "An adjacency matrix is a |V| x |V| matrix containing 0s and 1s. The entry in row i and column j is 1 if and only if the edge (i,j) is in the graph. \n",
    "\n",
    "It has constant time look up but it takes up O(V^2) space. It is computationally costly to find out vertices adjacent to a given vertex because you will need to look at all |V| entries in row i even if only a small number of vertices are adjacent to vertex i. \n",
    "\n",
    "##### Adjacency list\n",
    "The combination of adjacent matrices and edge list. For each vertex i, store the adjacent vertices in a list. It takes constant time to search if an edge (i, j) is present in the adjency list. In worse case, it takes O(d) where d is the degree (number of edges connected to i) of the vertex i. "
   ]
  },
  {
   "cell_type": "markdown",
   "metadata": {},
   "source": [
    "##### Breadth First Search\n",
    "\n"
   ]
  },
  {
   "cell_type": "code",
   "execution_count": null,
   "metadata": {},
   "outputs": [],
   "source": []
  }
 ],
 "metadata": {
  "kernelspec": {
   "display_name": "Python 3",
   "language": "python",
   "name": "python3"
  },
  "language_info": {
   "codemirror_mode": {
    "name": "ipython",
    "version": 3
   },
   "file_extension": ".py",
   "mimetype": "text/x-python",
   "name": "python",
   "nbconvert_exporter": "python",
   "pygments_lexer": "ipython3",
   "version": "3.8.5"
  }
 },
 "nbformat": 4,
 "nbformat_minor": 2
}
