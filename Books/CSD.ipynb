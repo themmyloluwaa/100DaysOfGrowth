{
 "cells": [
  {
   "cell_type": "markdown",
   "metadata": {},
   "source": [
    "## This note book contains all my learnings from the Computer Science Distilled Book."
   ]
  },
  {
   "cell_type": "markdown",
   "metadata": {},
   "source": [
    "### Chapter Two\n",
    "### Time and Space Complexity "
   ]
  },
  {
   "cell_type": "markdown",
   "metadata": {},
   "source": [
    "#### Selection Sort"
   ]
  },
  {
   "cell_type": "markdown",
   "metadata": {},
   "source": [
    "###### My notes\n",
    "\n",
    "The selection sort algorithm works by using two loops to find the index of the smallest item in the array and then swapping that value. The time complexity is O(N^2) while the space complexity is O(1).\n",
    "\n",
    "The inner loop searches through the array for the next smallest item\n",
    "\n",
    "The algorithm is as follows\n",
    "\n",
    "- initialise fist loop with iterator (i) set to 0\n",
    "- set minimum index as i\n",
    "- initialise second loop with iterator (j) set to i + 1\n",
    "- if item at index j is smaller than item at minimum index update minimum index to be j\n",
    "- swap item at i with item at updated minimum index"
   ]
  },
  {
   "cell_type": "code",
   "execution_count": 2,
   "metadata": {},
   "outputs": [
    {
     "data": {
      "text/plain": [
       "[1, 1, 2, 2, 3, 3, 6]"
      ]
     },
     "execution_count": 2,
     "metadata": {},
     "output_type": "execute_result"
    }
   ],
   "source": [
    "def selection_sort(arr):\n",
    "    for i in range(len(arr)):\n",
    "        smallest = i\n",
    "        for j in range(i+1, len(arr)):\n",
    "            if arr[j] < arr[smallest]:\n",
    "                smallest = j\n",
    "        temp = arr[smallest]\n",
    "        arr[smallest] = arr[i]\n",
    "        arr[i] = temp\n",
    "    return arr\n",
    "\n",
    "result = selection_sort([2,1,3,1,3,6,2])\n",
    "\n",
    "result\n",
    "\n",
    "# time complexity - O(N^2)\n",
    "# space complexity - O(1)\n"
   ]
  },
  {
   "cell_type": "markdown",
   "metadata": {},
   "source": [
    "##### Exponentials\n",
    "\n",
    "These are algorithms with time complexity of O(2^n) and they brutally dominate the quadratic algorithms (O(N^2)). These algorithms are considered not runnable because after a few times, they require huge amount of computing power.\n",
    "\n",
    "##### Factorials\n",
    "These are even worse than exponential algorithms. They are O(N!). \n",
    "\n",
    "These two algorithms while they may be really horrible are needed to solve complex problems such as the **NP Complete** problem.\n",
    "\n"
   ]
  }
 ],
 "metadata": {
  "kernelspec": {
   "display_name": "Python 3",
   "language": "python",
   "name": "python3"
  },
  "language_info": {
   "codemirror_mode": {
    "name": "ipython",
    "version": 3
   },
   "file_extension": ".py",
   "mimetype": "text/x-python",
   "name": "python",
   "nbconvert_exporter": "python",
   "pygments_lexer": "ipython3",
   "version": "3.8.5"
  }
 },
 "nbformat": 4,
 "nbformat_minor": 2
}
