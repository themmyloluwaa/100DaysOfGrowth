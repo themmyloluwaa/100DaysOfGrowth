{
 "cells": [
  {
   "cell_type": "markdown",
   "metadata": {},
   "source": [
    "#### Touch of Class\n",
    "This notebook contains my learnings from the Touch of Class book by professor Bertrand Meyer.\n",
    "Specifically the Data Structures part of the book."
   ]
  },
  {
   "cell_type": "markdown",
   "metadata": {},
   "source": [
    "#### CHAPTER 13 - FUNDAMENTAL DATA STRUCTURES, GENERICITY AND ALGORITHM COMPLEXITY\n"
   ]
  },
  {
   "cell_type": "markdown",
   "metadata": {},
   "source": [
    "##### CONTAINER STRUCTURES"
   ]
  },
  {
   "cell_type": "markdown",
   "metadata": {},
   "source": [
    "###### OPERATIONS\n",
    "\n",
    "- Queries\n",
    "```python \n",
    "is_empty: bool\n",
    "def has(v:G): bool\n",
    "count: int\n",
    "item: G or item(i: int):G\n",
    "```\n",
    "\n",
    "- Commands\n",
    "```python\n",
    "def __init__(n:int)\n",
    "def put(v:G) or def put(v:G, i:int) or def put(v:G, k: string)\n",
    "def extend(v:G) or def extend(v:G, i:int) or def extend(v:G, k: string)\n",
    "def replace(v:G) or def replace(v:G, i:int) or def replace(v:G, k: string)\n",
    "```"
   ]
  },
  {
   "cell_type": "markdown",
   "metadata": {},
   "source": [
    "##### Data Structures"
   ]
  },
  {
   "cell_type": "markdown",
   "metadata": {},
   "source": [
    "###### Arrays"
   ]
  },
  {
   "cell_type": "code",
   "execution_count": null,
   "metadata": {},
   "outputs": [],
   "source": [
    "class Array():\n",
    "    count = 0\n",
    "    def __init__(self, size:int):\n",
    "        self.size = size\n",
    "        self.data = [None] * size\n",
    "    def valid_index(self, i:int)-> bool:\n",
    "        return i >= 0 and i <= size - 1\n",
    "    def item(self, i:int):\n",
    "        if(valid_index(i)):\n",
    "            if(self.data[i] not None):\n",
    "                return self.data[i]\n",
    "            else:\n",
    "                raise ValueError(f\"value at {i} doesn't exist\")\n",
    "        else:\n",
    "            raise IndexError(f\"{i} is not a valid index\")\n",
    "    def put(self, v, i:int):\n",
    "        if(valid_index(i)):\n",
    "            self.data [i] = v\n",
    "            count += 1\n",
    "    def remove(self, i:int):\n",
    "        if(valid_index(i)):\n",
    "            self.data[i] = None\n",
    "            count -= 1\n",
    "    def has(self, item)-> bool:\n",
    "        return item in self.data\n",
    "#     thanks to the dynamic sizing of arrays in python\n",
    "#     we just need to set the size to be new size\n",
    "    def resize(self, new_size: int):\n",
    "        self.size = new_size\n",
    "        "
   ]
  }
 ],
 "metadata": {
  "kernelspec": {
   "display_name": "Python 3",
   "language": "python",
   "name": "python3"
  },
  "language_info": {
   "codemirror_mode": {
    "name": "ipython",
    "version": 3
   },
   "file_extension": ".py",
   "mimetype": "text/x-python",
   "name": "python",
   "nbconvert_exporter": "python",
   "pygments_lexer": "ipython3",
   "version": "3.8.5"
  }
 },
 "nbformat": 4,
 "nbformat_minor": 4
}
