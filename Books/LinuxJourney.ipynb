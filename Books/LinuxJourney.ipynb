{
 "cells": [
  {
   "cell_type": "markdown",
   "metadata": {},
   "source": [
    "#### This notebook contains all my learnings from the linuxjourney.com website about the linux kernel. \n",
    "\n",
    "The goal of this learning effort is to become very familiar with working with the linux kernel which is an important skill for being a devops and k8s expert."
   ]
  },
  {
   "cell_type": "markdown",
   "metadata": {},
   "source": [
    "##### Part 1\n",
    "\n",
    "- I learnt about various linux distributions and a brief history about the creator of the linux kernel\n",
    "- I also learnt that a kernel is the important element of the OS that facilitates communication between the software stack and the underlying hardware stack\n",
    "- I learnt very useful commands when operating with the shell such as man, cat, cut, expand, alias, grep, find, wc, less.\n",
    "- I also learnt some basic regex keywords. Some are\n",
    "</br>\n",
    "<ul>\n",
    "    <ol>^ - for matching beginning of a line </ol>\n",
    "    <ol>$ - for matching ending of a line </ol>\n",
    "    <ol>. - for matching any single character </ol>\n",
    "    <ol>[] - for matching all results that are contained in the brackets</ol>\n",
    "    <ol>[^] - for matching all results except those that are contained in the brackets</ol>\n",
    "            \n",
    "</ul"
   ]
  },
  {
   "cell_type": "markdown",
   "metadata": {},
   "source": [
    "#### Users and Groups\n",
    "- The linux system uses user ids (UID) to manage users and usernames are friendly way to associate users with identification but underneath, the linux kernel uses the UID to identify a user.\n",
    "- The root user is the most powerful user in the system. It has UID of 0\n",
    "- The system also uses group ids (GID) to manage permissions. \n",
    "- Like in AWS where services have roles, system processes can also be users \n",
    "- /etc/sudoers file contains the users who have permission to run sudo command\n",
    "- /etc/passwd file contains the mapping of each username to the user id. It shows the username, UID, GID, folder, shell\n",
    "- /etc/shadow stores details about user's authentication. \n",
    "- /etc/group contains all the groups in the system. It contains the group name, id and the users seperated with comma\n",
    "- You can add a new user using `sudo useradd <name>`.\n",
    "- You can remove a user using `sudo userdel <name>`.\n",
    "- You can change a user's passowrd using `passwd <name>`"
   ]
  },
  {
   "cell_type": "markdown",
   "metadata": {},
   "source": [
    "#### File Permissions\n",
    "- permissions are as follows r-read, w-write, x-execute, t-sticky, __-__-empty\n",
    "- you can modify permissions using the `chmod` command with the `u+<permission>` for user permission or the `g+<permission>` for group permissions with the respective file. \n",
    "- you can also modify permissions using numbers. 4 represents read, 2 represent write and 1 represent execute. Example, `chmod 755 myFile` gives the file all permissions for user, read and execute for both group and other permissions.\n",
    "- you can also change the owner of a file using the `sudo chown <user> <file>` command \n",
    "- you can also change the group of a file using the `sudo chgro <group> <file>` command \n",
    "- you can do both by using a `<user>:<group> in the` `chown` command\n",
    "- The set user id (SUID) allows a user to run a program as the owner of the program rather than themselves. You can give a user SUID permission using `sudo chmod u+s file` or `sudo chmod 4755 file`\n",
    "- The set group id (SGID) allows a program to run as if it was a member of that group.  You can set a SGID permission using `sudo chmod g+s file` or `sudo chmod 2755 file`\n",
    "- The sticky t permission is used to ensure that only the root user or the owner of the file or directory can modify or delete it. You can enable sticky permission by running `sudo chmod +t file/dir` or `sudo chmod 1755 file/dir`\n",
    "\n",
    "\n",
    " \n"
   ]
  },
  {
   "cell_type": "markdown",
   "metadata": {},
   "source": [
    "#### Process Permissions\n",
    "Three types of UIDs exist\n",
    "\n",
    "- Effective user id: grants access rights to a process\n",
    "- Real user id: used to track down the user that launched the process. They are used to track down the user who launched the process\n",
    "- Saved user id: allows a user switch between the effective user id and the real user id. \n"
   ]
  },
  {
   "cell_type": "markdown",
   "metadata": {},
   "source": [
    "#### Processes\n",
    "- These are the programs runnning on the computer. They have an id and they are assigned in the order they were created. "
   ]
  }
 ],
 "metadata": {
  "kernelspec": {
   "display_name": "Python 3",
   "language": "python",
   "name": "python3"
  },
  "language_info": {
   "codemirror_mode": {
    "name": "ipython",
    "version": 3
   },
   "file_extension": ".py",
   "mimetype": "text/x-python",
   "name": "python",
   "nbconvert_exporter": "python",
   "pygments_lexer": "ipython3",
   "version": "3.8.5"
  }
 },
 "nbformat": 4,
 "nbformat_minor": 4
}
