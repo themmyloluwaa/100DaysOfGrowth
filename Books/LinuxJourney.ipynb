{
 "cells": [
  {
   "cell_type": "markdown",
   "metadata": {},
   "source": [
    "#### This notebook contains all my learnings from the linuxjourney.com website about the linux kernel. \n",
    "\n",
    "The goal of this learning effort is to become very familiar with working with the linux kernel which is an important skill for being a devops and k8s expert."
   ]
  },
  {
   "cell_type": "markdown",
   "metadata": {},
   "source": [
    "##### Part 1\n",
    "\n",
    "- I learnt about various linux distributions and a brief history about the creator of the linux kernel\n",
    "- I also learnt that a kernel is the important element of the OS that facilitates communication between the software stack and the underlying hardware stack\n",
    "- I learnt very useful commands when operating with the shell such as man, cat, cut, expand, alias, grep, find, wc, less.\n",
    "- I also learnt some basic regex keywords. Some are\n",
    "</br>\n",
    "<ul>\n",
    "    <ol>^ - for matching beginning of a line </ol>\n",
    "    <ol>$ - for matching ending of a line </ol>\n",
    "    <ol>. - for matching any single character </ol>\n",
    "    <ol>[] - for matching all results that are contained in the brackets</ol>\n",
    "    <ol>[^] - for matching all results except those that are contained in the brackets</ol>\n",
    "            \n",
    "</ul"
   ]
  },
  {
   "cell_type": "code",
   "execution_count": null,
   "metadata": {},
   "outputs": [],
   "source": []
  }
 ],
 "metadata": {
  "kernelspec": {
   "display_name": "Python 3",
   "language": "python",
   "name": "python3"
  },
  "language_info": {
   "codemirror_mode": {
    "name": "ipython",
    "version": 3
   },
   "file_extension": ".py",
   "mimetype": "text/x-python",
   "name": "python",
   "nbconvert_exporter": "python",
   "pygments_lexer": "ipython3",
   "version": "3.8.5"
  }
 },
 "nbformat": 4,
 "nbformat_minor": 4
}
