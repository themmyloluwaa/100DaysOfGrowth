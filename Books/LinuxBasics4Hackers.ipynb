{
 "cells": [
  {
   "cell_type": "markdown",
   "metadata": {},
   "source": [
    "### Linux Basics for Hackers (LB4H)\n",
    "\n",
    "This book is a documentation of the things i learn from the LB4H books."
   ]
  },
  {
   "cell_type": "markdown",
   "metadata": {},
   "source": [
    "### Concepts\n",
    "\n",
    "- Binaries: these refers to files that can be executed. They generally reside in the /usr/bin or usr/sbin directory. This is where popular utilities like ps, cat etc reside. \n",
    "\n",
    "- The locate command can be used to find things in linux. It's limitation is that it uses a database that's only updated once a day and so newly created files or programs may not appear that day. \n",
    "\n",
    "- \n",
    "\n"
   ]
  }
 ],
 "metadata": {
  "kernelspec": {
   "display_name": "Python 3",
   "language": "python",
   "name": "python3"
  },
  "language_info": {
   "codemirror_mode": {
    "name": "ipython",
    "version": 3
   },
   "file_extension": ".py",
   "mimetype": "text/x-python",
   "name": "python",
   "nbconvert_exporter": "python",
   "pygments_lexer": "ipython3",
   "version": "3.8.5"
  }
 },
 "nbformat": 4,
 "nbformat_minor": 4
}
