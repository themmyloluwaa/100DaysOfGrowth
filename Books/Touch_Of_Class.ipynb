{
  "nbformat": 4,
  "nbformat_minor": 0,
  "metadata": {
    "kernelspec": {
      "display_name": "Python 3",
      "language": "python",
      "name": "python3"
    },
    "language_info": {
      "codemirror_mode": {
        "name": "ipython",
        "version": 3
      },
      "file_extension": ".py",
      "mimetype": "text/x-python",
      "name": "python",
      "nbconvert_exporter": "python",
      "pygments_lexer": "ipython3",
      "version": "3.8.5"
    },
    "colab": {
      "name": "Touch Of Class.ipynb",
      "provenance": [],
      "collapsed_sections": []
    }
  },
  "cells": [
    {
      "cell_type": "markdown",
      "metadata": {
        "id": "Rj7gzJMVQuhs"
      },
      "source": [
        "#### Touch of Class\n",
        "This notebook contains my learnings from the Touch of Class book by professor Bertrand Meyer.\n",
        "Specifically the Data Structures part of the book."
      ]
    },
    {
      "cell_type": "markdown",
      "metadata": {
        "id": "SouebGGjQuhv"
      },
      "source": [
        "#### CHAPTER 13 - FUNDAMENTAL DATA STRUCTURES, GENERICITY AND ALGORITHM COMPLEXITY\n"
      ]
    },
    {
      "cell_type": "markdown",
      "metadata": {
        "id": "giv9kdLIQuhw"
      },
      "source": [
        "##### CONTAINER STRUCTURES"
      ]
    },
    {
      "cell_type": "markdown",
      "metadata": {
        "id": "JN3ia2l8Quhw"
      },
      "source": [
        "###### OPERATIONS\n",
        "\n",
        "- Queries\n",
        "```python \n",
        "is_empty: bool\n",
        "def has(v:G): bool\n",
        "count: int\n",
        "item: G or item(i: int):G\n",
        "```\n",
        "\n",
        "- Commands\n",
        "```python\n",
        "def __init__(n:int)\n",
        "def put(v:G) or def put(v:G, i:int) or def put(v:G, k: string)\n",
        "def extend(v:G) or def extend(v:G, i:int) or def extend(v:G, k: string)\n",
        "def replace(v:G) or def replace(v:G, i:int) or def replace(v:G, k: string)\n",
        "```"
      ]
    },
    {
      "cell_type": "markdown",
      "metadata": {
        "id": "t6b1LFvWQuhx"
      },
      "source": [
        "##### Data Structures"
      ]
    },
    {
      "cell_type": "markdown",
      "metadata": {
        "id": "ySPAFG2HQuhx"
      },
      "source": [
        "###### Arrays"
      ]
    },
    {
      "cell_type": "code",
      "metadata": {
        "id": "g8HuaU6TQuhy"
      },
      "source": [
        "class Array():\n",
        "    count = 0\n",
        "    def __init__(self, size:int):\n",
        "        self.size = size\n",
        "        self.data = [None] * size\n",
        "    def __valid_index(self, i:int)-> bool:\n",
        "        return i >= 0 and i <= self.size - 1\n",
        "    def item(self, i:int):\n",
        "        if self.__valid_index(i):\n",
        "            if not self.data[i] == None:\n",
        "                return self.data[i]\n",
        "            else:\n",
        "                raise ValueError(f\"value at {i} doesn't exist\")\n",
        "        else:\n",
        "            raise IndexError(f\"{i} is not a valid index\")\n",
        "    def put(self, v, i:int):\n",
        "        if(self.__valid_index(i)):\n",
        "            self.data [i] = v\n",
        "            self.count += 1\n",
        "        else:\n",
        "            raise IndexError(f\"{i} is not a valid index\")\n",
        "    def remove(self, i:int):\n",
        "        if(self.__valid_index(i)):\n",
        "            self.data[i] = None\n",
        "            self.count -= 1\n",
        "    def has(self, item)-> bool:\n",
        "        return item in self.data\n",
        "#     thanks to the dynamic sizing of arrays in python\n",
        "#     we just need to set the size to be new size\n",
        "    def resize(self, new_size: int):\n",
        "        self.size = new_size\n",
        "\n",
        "    def pop(self, i: int):\n",
        "      output = self.data[i]\n",
        "      self.remove(i)\n",
        "      temp = self.data[i]\n",
        "      for index in range(i, self.count):\n",
        "        self.data[index] = self.data[index + 1]\n",
        "      self.data[self.count] = temp\n",
        "      return output\n",
        "    \n",
        "    def reverse(self):\n",
        "      min = 0\n",
        "      max = self.count - 1\n",
        "\n",
        "      while max > min:\n",
        "        temp = self.data[min]\n",
        "        self.data[min] = self.data[max]\n",
        "        self.data[max] = temp\n",
        "        min += 1\n",
        "        max -= 1 \n",
        "\n",
        "    def print(self):\n",
        "      output = []\n",
        "\n",
        "      for i in range(self.count):\n",
        "        output.append(self.data[i])\n",
        "\n",
        "      return output     \n",
        "\n",
        "    def __sort_asc(self):\n",
        "      for i in range(self.count):\n",
        "        min_index = i\n",
        "        for j in range(i + 1, self.count):\n",
        "          if self.data[j] < self.data[min_index]:\n",
        "            min_index = j\n",
        "        temp = self.data[i]\n",
        "        self.data[i] = self.data[min_index]\n",
        "        self.data[min_index] = temp\n",
        "    \n",
        "    def __sort_dsc(self):\n",
        "      for i in range(self.count):\n",
        "        max_index = i\n",
        "        for j in range(i + 1, self.count):\n",
        "          if self.data[j] > self.data[max_index]:\n",
        "            max_index = j\n",
        "        temp = self.data[max_index]\n",
        "        self.data[i] = temp\n",
        "        self.data[max_index] = self.data[i]\n",
        "    \n",
        "    def sort(self, reverse=False):\n",
        "      if(reverse == True):\n",
        "        self.__sort_dsc()\n",
        "      else:\n",
        "        self.__sort_asc()"
      ],
      "execution_count": 76,
      "outputs": []
    },
    {
      "cell_type": "code",
      "metadata": {
        "colab": {
          "base_uri": "https://localhost:8080/"
        },
        "id": "rpiKnU6OQuhz",
        "outputId": "51102fcd-d160-4f87-bd0e-afcc820c8b73"
      },
      "source": [
        "# Testing the Array class\n",
        "my_list =  Array(10)\n",
        "print(my_list.count)\n",
        "print(my_list.size)\n",
        "\n",
        "# add an item\n",
        "my_list.put(0,0)\n",
        "# retrieve the added item\n",
        "print(my_list.item(0))\n",
        "# remove an item\n",
        "my_list.put(\"fish\",1)\n",
        "print(\"before removing\", my_list.count)\n",
        "my_list.remove(1)\n",
        "print(\"after removing\", my_list.count)\n",
        "# search for item\n",
        "print(my_list.has(\"fish\"))\n",
        "# pop an item\n",
        "my_list.put(1,1)\n",
        "my_list.put(2,2)\n",
        "my_list.put(3,3)\n",
        "my_list.put(4,4)\n",
        "my_list.put(5,5)\n",
        "print(\"Before popping\", my_list.data)\n",
        "print(my_list.pop(3))\n",
        "print(\"After popping\", my_list.data)\n",
        "\n",
        "# reverse\n",
        "print(\"Before reversing\", my_list.print())\n",
        "my_list.reverse()\n",
        "print(\"After reversing\", my_list.print())\n",
        "\n",
        "# sorting\n",
        "print(\"Before sorting\", my_list.print())\n",
        "my_list.sort(reverse=True)\n",
        "print(\"After sorting Desc\", my_list.print())\n",
        "my_list.sort()\n",
        "print(\"After sorting Asc\", my_list.print())\n"
      ],
      "execution_count": 77,
      "outputs": [
        {
          "output_type": "stream",
          "text": [
            "0\n",
            "10\n",
            "0\n",
            "before removing 2\n",
            "after removing 1\n",
            "False\n",
            "Before popping [0, 1, 2, 3, 4, 5, None, None, None, None]\n",
            "3\n",
            "After popping [0, 1, 2, 4, 5, None, None, None, None, None]\n",
            "Before reversing [0, 1, 2, 4, 5]\n",
            "After reversing [5, 4, 2, 1, 0]\n",
            "Before sorting [5, 4, 2, 1, 0]\n",
            "After sorting Desc [5, 4, 2, 1, 0]\n",
            "After sorting Asc [0, 1, 2, 4, 5]\n"
          ],
          "name": "stdout"
        }
      ]
    },
    {
      "cell_type": "code",
      "metadata": {
        "id": "fHvZHWlCxVVV"
      },
      "source": [
        ""
      ],
      "execution_count": null,
      "outputs": []
    }
  ]
}